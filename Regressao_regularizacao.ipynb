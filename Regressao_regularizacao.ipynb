{
 "cells": [
  {
   "cell_type": "markdown",
   "id": "b7493483",
   "metadata": {},
   "source": [
    "# Regressão"
   ]
  },
  {
   "cell_type": "markdown",
   "id": "3f595bee",
   "metadata": {},
   "source": [
    "Regularizadores são penalidades contra a complexidade do modelo, o que força aumento do viés, porém diminui a variância, diminuindo o overfitting, minimizando o SS.\n",
    "\n",
    "Basicamente a ideia é aumentar o erro em algumas features para que o gradiente descendente diminua os pessos dessas features"
   ]
  },
  {
   "cell_type": "markdown",
   "id": "cff9fd80",
   "metadata": {},
   "source": [
    "## Regularização Ridge"
   ]
  },
  {
   "cell_type": "markdown",
   "id": "9500c255",
   "metadata": {},
   "source": [
    "Ridge leva em consideração a correlação entre os preditores, o que faz com que ele funcione diferente quando o mesmo acontece. Ridge tenta encolher os coeficientes de forma proporcional, ao caso em que quando temos preditores correlacionados ele tenta penalizar um mais que o outro a fim de isolar seus efeitos.\n",
    "\n",
    "É uma penalização quadrática (L2) o que força um 'aumento' do erro no treino. Ou seja, diminui os parâmetros caso $\\beta < 1$ , mas não zera, para alguma features\n",
    "\n",
    "$$\n",
    "SS = \\sum(y_i - y)^2 + \\lambda*\\sum(\\beta_n^2)\n",
    "$$\n",
    "\n",
    "No qual é controlado essa penalização pelo coeficiente $\\lambda$"
   ]
  },
  {
   "cell_type": "markdown",
   "id": "84f65ad9",
   "metadata": {},
   "source": [
    "## Regularização Lasso"
   ]
  },
  {
   "cell_type": "markdown",
   "id": "910c3df1",
   "metadata": {},
   "source": [
    "Se existir no conjunto de p variáveis duas variáveis muito correlacionadas, Lasso tende a zerar uma delas sem se importar com qual e manter apenas a outra, ignorando a relevância da outra.\n",
    "Para casos onde existe muita correlação entre os preditores é observado empiricamente que a regularização Ridge se sobressai a Lasso.\n",
    "\n",
    "\n",
    "É uma penalização linear (L1) o que força um 'aumento' do erro no treino. Ou seja, zera alguns parâmetros, fazendo a seleção de variáveis\n",
    "\n",
    "$$\n",
    "SS = \\sum(y_i - y)^2 + \\lambda*\\sum(\\beta_n)\n",
    "$$\n",
    "\n",
    "No qual é controlado essa penalização pelo coeficiente $\\lambda$"
   ]
  },
  {
   "cell_type": "markdown",
   "id": "4186972f",
   "metadata": {},
   "source": [
    "## Regularização Elastic Net"
   ]
  },
  {
   "cell_type": "markdown",
   "id": "56b39bcf",
   "metadata": {},
   "source": [
    "É a junção de ambos"
   ]
  }
 ],
 "metadata": {
  "kernelspec": {
   "display_name": "Python 3 (ipykernel)",
   "language": "python",
   "name": "python3"
  },
  "language_info": {
   "codemirror_mode": {
    "name": "ipython",
    "version": 3
   },
   "file_extension": ".py",
   "mimetype": "text/x-python",
   "name": "python",
   "nbconvert_exporter": "python",
   "pygments_lexer": "ipython3",
   "version": "3.7.4"
  }
 },
 "nbformat": 4,
 "nbformat_minor": 5
}
